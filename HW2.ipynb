{
 "cells": [
  {
   "cell_type": "code",
   "execution_count": 1,
   "id": "77fb7f4b-0ce2-4e88-b4a7-a536f40abd38",
   "metadata": {},
   "outputs": [],
   "source": [
    "import yfinance as yf"
   ]
  },
  {
   "cell_type": "code",
   "execution_count": 14,
   "id": "f6cfa0ec-5a59-4f4b-8aaa-5d97919e2922",
   "metadata": {},
   "outputs": [],
   "source": [
    "#list1 = [\"2323\", \"2409\", \"3059\", \"3149\", \"3481\", \"3504\", \"3714\", \"4934\", \"6164\", \"6176\"]\n",
    "#for i in list1 : \n",
    "  #def yf_download() :\n",
    "    #y1 = yf.download(i+\".TW\", \"2020-01-01\",\"2023-12-31\")\n",
    "    #y1.to_csv(\"yahoo_\"+ i +\"TW.csv\")"
   ]
  },
  {
   "cell_type": "code",
   "execution_count": 19,
   "id": "eaafaf68-5e3a-43e0-9e85-b477c2d54395",
   "metadata": {},
   "outputs": [
    {
     "name": "stderr",
     "output_type": "stream",
     "text": [
      "[*********************100%%**********************]  1 of 1 completed\n",
      "[*********************100%%**********************]  1 of 1 completed\n",
      "[*********************100%%**********************]  1 of 1 completed\n",
      "[*********************100%%**********************]  1 of 1 completed\n",
      "[*********************100%%**********************]  1 of 1 completed\n",
      "[*********************100%%**********************]  1 of 1 completed\n",
      "[*********************100%%**********************]  1 of 1 completed\n",
      "[*********************100%%**********************]  1 of 1 completed\n",
      "[*********************100%%**********************]  1 of 1 completed\n",
      "[*********************100%%**********************]  1 of 1 completed\n"
     ]
    }
   ],
   "source": [
    "list1 = [\"2323\", \"2409\", \"3059\", \"3149\", \"3481\", \"3504\", \"3714\", \"4934\", \"6164\", \"6176\"]\n",
    "for i in list1 : \n",
    "    df1 = yf.download(i+\".TW\", \"2020-01-01\",\"2023-12-31\")\n",
    "    df1.to_csv(\"yahoo_\"+ i +\"TW.csv\")"
   ]
  },
  {
   "cell_type": "code",
   "execution_count": 34,
   "id": "2e2e4d5c-f52c-4c92-940e-05d5f716eae1",
   "metadata": {},
   "outputs": [],
   "source": [
    "import pandas as pd"
   ]
  },
  {
   "cell_type": "code",
   "execution_count": 39,
   "id": "679a1e9b-23f2-43de-8033-6f03bdd1b06b",
   "metadata": {},
   "outputs": [],
   "source": [
    "list2 = [\"2314\", \"2321\", \"2332\", \"2345\", \"2419\", \"3047\", \"3062\", \"3138\",\"3596\", \"5388\"]\n",
    "list3 = [\"2701\", \"2702\", \"2704\", \"2705\", \"2706\", \"2707\", \"2712\", \"2722\", \"2723\",\"2727\"]\n",
    "url1 = \"https://raw.github.com/\"\n",
    "#url1 = \"https://raw.githubusercontent.com/\"\n",
    "for j in list2 : \n",
    "    url2 = url1 + \"carolkao2258/trade/main/yahoo_\" + j + \"TW.csv\"\n",
    "    df2 = pd.read_csv(url2, index_col=0)\n",
    "    df2.to_csv(\"yahoo_\" + j +\"TW.csv\")\n",
    "for k in list3 :\n",
    "    url3 = url1 + \"johnny147852/fin_data/main/yahoo_\" + k + \"TW.csv\"\n",
    "    df3 = pd.read_csv(url3, index_col=0)\n",
    "    df3.to_csv(\"yahoo_\" + k +\"TW.csv\")"
   ]
  },
  {
   "cell_type": "code",
   "execution_count": null,
   "id": "a9205bd7-b518-4105-ae7a-5e416b25f7e4",
   "metadata": {},
   "outputs": [],
   "source": [
    "#檢查資料是否成功載入\n",
    "print(df2.head(5))\n",
    "print(df3.tail(5))"
   ]
  }
 ],
 "metadata": {
  "kernelspec": {
   "display_name": "Python 3 (ipykernel)",
   "language": "python",
   "name": "python3"
  },
  "language_info": {
   "codemirror_mode": {
    "name": "ipython",
    "version": 3
   },
   "file_extension": ".py",
   "mimetype": "text/x-python",
   "name": "python",
   "nbconvert_exporter": "python",
   "pygments_lexer": "ipython3",
   "version": "3.11.7"
  }
 },
 "nbformat": 4,
 "nbformat_minor": 5
}
